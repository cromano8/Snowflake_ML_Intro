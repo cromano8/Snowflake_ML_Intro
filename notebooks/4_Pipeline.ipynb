{
 "cells": [
  {
   "cell_type": "code",
   "execution_count": 7,
   "metadata": {},
   "outputs": [],
   "source": [
    "import ast\n",
    "import json\n",
    "import warnings\n",
    "\n",
    "import pandas as pd\n",
    "from common import get_col_types, get_next_version, get_version_with_highest_accuracy\n",
    "from snowflake.ml.modeling.impute import SimpleImputer\n",
    "from snowflake.ml.modeling.metrics import (\n",
    "    accuracy_score,\n",
    "    confusion_matrix,\n",
    "    f1_score,\n",
    "    precision_score,\n",
    "    recall_score,\n",
    ")\n",
    "from snowflake.ml.modeling.model_selection import GridSearchCV\n",
    "from snowflake.ml.modeling.pipeline import Pipeline\n",
    "from snowflake.ml.modeling.preprocessing import OneHotEncoder\n",
    "from snowflake.ml.modeling.xgboost import XGBClassifier\n",
    "from snowflake.ml.registry import Registry\n",
    "from snowflake.ml.utils.connection_params import SnowflakeLoginOptions\n",
    "from snowflake.snowpark import Session\n",
    "from snowflake.snowpark import functions as F\n",
    "from snowflake.snowpark import types as T\n",
    "from snowflake.snowpark.functions import col"
   ]
  },
  {
   "cell_type": "code",
   "execution_count": 2,
   "metadata": {},
   "outputs": [
    {
     "name": "stderr",
     "output_type": "stream",
     "text": [
      "SnowflakeLoginOptions() is in private preview since 0.2.0. Do not use it in production. \n"
     ]
    }
   ],
   "source": [
    "session = Session.builder.configs(SnowflakeLoginOptions()).getOrCreate()"
   ]
  },
  {
   "cell_type": "code",
   "execution_count": 6,
   "metadata": {},
   "outputs": [
    {
     "name": "stderr",
     "output_type": "stream",
     "text": [
      "/opt/anaconda3/envs/Intro_SnowML/lib/python3.10/site-packages/snowflake/ml/_internal/utils/snowpark_dataframe_utils.py:88: UserWarning: Warning: The Decimal(7, 4) data type is being automatically converted to DoubleType in the Snowpark DataFrame. This automatic conversion may lead to potential precision loss and rounding errors. If you wish to prevent this conversion, you should manually perform the necessary data type conversion.\n",
      "  warnings.warn(\n",
      "/opt/anaconda3/envs/Intro_SnowML/lib/python3.10/site-packages/snowflake/snowpark/session.py:2182: UserWarning: Pandas Dataframe has non-standard index of type <class 'pandas.core.indexes.numeric.Int64Index'> which will not be written. Consider changing the index to pd.RangeIndex(start=0,...,step=1) or call reset_index() to keep index as column(s)\n",
      "  success, nchunks, nrows, ci_output = write_pandas(\n",
      "/opt/anaconda3/envs/Intro_SnowML/lib/python3.10/site-packages/snowflake/snowpark/session.py:2182: UserWarning: Pandas Dataframe has non-standard index of type <class 'pandas.core.indexes.numeric.Int64Index'> which will not be written. Consider changing the index to pd.RangeIndex(start=0,...,step=1) or call reset_index() to keep index as column(s)\n",
      "  success, nchunks, nrows, ci_output = write_pandas(\n",
      "/opt/anaconda3/envs/Intro_SnowML/lib/python3.10/site-packages/snowflake/snowpark/session.py:2182: UserWarning: Pandas Dataframe has non-standard index of type <class 'pandas.core.indexes.numeric.Int64Index'> which will not be written. Consider changing the index to pd.RangeIndex(start=0,...,step=1) or call reset_index() to keep index as column(s)\n",
      "  success, nchunks, nrows, ci_output = write_pandas(\n",
      "/opt/anaconda3/envs/Intro_SnowML/lib/python3.10/site-packages/snowflake/ml/_internal/utils/snowpark_dataframe_utils.py:88: UserWarning: Warning: The Decimal(7, 4) data type is being automatically converted to DoubleType in the Snowpark DataFrame. This automatic conversion may lead to potential precision loss and rounding errors. If you wish to prevent this conversion, you should manually perform the necessary data type conversion.\n",
      "  warnings.warn(\n"
     ]
    },
    {
     "name": "stdout",
     "output_type": "stream",
     "text": [
      "-----------------------------------------------------------------------------------------------------------------------------------------------------------------------------------------------------------------------------------------------------------------\n",
      "|\"SEX_MALE\"  |\"CLASS_SECOND\"  |\"CLASS_THIRD\"  |\"WHO_MAN\"  |\"WHO_WOMAN\"  |\"EMBARK_TOWN_QUEENSTOWN\"  |\"EMBARK_TOWN_SOUTHAMPTON\"  |\"SURVIVED\"  |\"PCLASS\"  |\"SIBSP\"  |\"PARCH\"  |\"FARE\"   |\"ALONE\"  |\"PREDICT_PROBA_0\"     |\"PREDICT_PROBA_1\"    |\"OUTPUT_SURVIVED\"  |\n",
      "-----------------------------------------------------------------------------------------------------------------------------------------------------------------------------------------------------------------------------------------------------------------\n",
      "|1.0         |0.0             |1.0            |1.0        |0.0          |0.0                       |1.0                        |0           |3         |1        |0        |7.25     |False    |0.9325933456420898    |0.06740663200616837  |0                  |\n",
      "|0.0         |0.0             |0.0            |0.0        |1.0          |0.0                       |0.0                        |1           |1         |1        |0        |71.2833  |False    |0.009830057621002196  |0.9901699423789978   |1                  |\n",
      "|0.0         |0.0             |0.0            |0.0        |1.0          |0.0                       |1.0                        |1           |1         |1        |0        |53.1     |False    |0.015713274478912354  |0.9842867255210876   |1                  |\n",
      "|1.0         |0.0             |1.0            |1.0        |0.0          |0.0                       |1.0                        |0           |3         |0        |0        |8.05     |True     |0.8683130145072937    |0.1316869705915451   |0                  |\n",
      "|1.0         |0.0             |1.0            |0.0        |0.0          |0.0                       |1.0                        |0           |3         |3        |1        |21.075   |False    |0.8506706953048706    |0.1493292897939682   |0                  |\n",
      "|0.0         |0.0             |1.0            |0.0        |1.0          |0.0                       |1.0                        |1           |3         |0        |2        |11.1333  |False    |0.2507440447807312    |0.7492559552192688   |1                  |\n",
      "|0.0         |1.0             |0.0            |0.0        |0.0          |0.0                       |0.0                        |1           |2         |1        |0        |30.0708  |False    |0.011385798454284668  |0.9886142015457152   |1                  |\n",
      "|0.0         |0.0             |1.0            |0.0        |0.0          |0.0                       |1.0                        |1           |3         |1        |1        |16.7     |False    |0.11237221956253052   |0.8876277804374695   |1                  |\n",
      "|0.0         |0.0             |0.0            |0.0        |1.0          |0.0                       |1.0                        |1           |1         |0        |0        |26.55    |True     |0.0649450421333313    |0.9350549578666688   |1                  |\n",
      "|1.0         |0.0             |1.0            |1.0        |0.0          |0.0                       |1.0                        |0           |3         |1        |5        |31.275   |False    |0.8820328712463379    |0.1179671511054039   |0                  |\n",
      "-----------------------------------------------------------------------------------------------------------------------------------------------------------------------------------------------------------------------------------------------------------------\n",
      "\n"
     ]
    }
   ],
   "source": [
    "df = session.table(\"TITANIC\")\n",
    "df = df.drop([\"PASSENGER_ID\", \"AGE\", \"DECK\", \"ALIVE\", \"ADULT_MALE\", \"EMBARKED\"])\n",
    "train_df, test_df = df.random_split([0.8, 0.2], seed=42)\n",
    "train_df.write.save_as_table(\"TRAIN\", mode=\"overwrite\")\n",
    "test_df.write.save_as_table(\"TEST\", mode=\"overwrite\")\n",
    "train_df, test_df = session.table(\"train\"), session.table(\"test\")\n",
    "parameters = {\n",
    "    \"n_estimators\": [100, 200, 300, 400, 500],\n",
    "    \"learning_rate\": [0.1, 0.2, 0.3, 0.4, 0.5],\n",
    "    \"max_depth\": list(range(3, 5, 1)),\n",
    "    \"min_child_weight\": list(range(3, 5, 1)),\n",
    "}\n",
    "cat_cols = get_col_types(df, \"string\")\n",
    "pipeline = Pipeline(\n",
    "    steps=[\n",
    "        (\n",
    "            \"SimpleImputer\",\n",
    "            SimpleImputer(\n",
    "                input_cols=cat_cols,\n",
    "                output_cols=cat_cols,\n",
    "                strategy=\"most_frequent\",\n",
    "                drop_input_cols=True,\n",
    "            ),\n",
    "        ),\n",
    "        (\n",
    "            \"OneHotEncoder\",\n",
    "            OneHotEncoder(\n",
    "                input_cols=cat_cols,\n",
    "                output_cols=cat_cols,\n",
    "                drop_input_cols=True,\n",
    "                drop=\"first\",\n",
    "                handle_unknown=\"ignore\",\n",
    "            ),\n",
    "        ),\n",
    "        (\n",
    "            \"GridSearchCV\",\n",
    "            GridSearchCV(\n",
    "                estimator=XGBClassifier(random_state=42),\n",
    "                param_grid=parameters,\n",
    "                n_jobs=-1,\n",
    "                scoring=\"accuracy\",\n",
    "                label_cols=\"SURVIVED\",\n",
    "            ),\n",
    "        ),\n",
    "    ],\n",
    ")\n",
    "pipeline.fit(train_df)\n",
    "result_df = pipeline.predict_proba(train_df)\n",
    "result_df = result_df.with_column(\n",
    "    \"OUTPUT_SURVIVED\", F.col(\"predict_proba_1\").cast(T.LongType())\n",
    ")\n",
    "result_df.show()"
   ]
  },
  {
   "cell_type": "code",
   "execution_count": 8,
   "metadata": {},
   "outputs": [
    {
     "name": "stderr",
     "output_type": "stream",
     "text": [
      "DataFrame.flatten() is deprecated since 0.7.0. Use `DataFrame.join_table_function()` instead.\n"
     ]
    }
   ],
   "source": [
    "metrics = {\n",
    "    \"Accuracy\": accuracy_score(\n",
    "        df=result_df,\n",
    "        y_true_col_names=\"SURVIVED\",\n",
    "        y_pred_col_names=\"OUTPUT_SURVIVED\",\n",
    "    ),\n",
    "    \"Precision\": precision_score(\n",
    "        df=result_df,\n",
    "        y_true_col_names=\"SURVIVED\",\n",
    "        y_pred_col_names=\"OUTPUT_SURVIVED\",\n",
    "    ),\n",
    "    \"Recall\": recall_score(\n",
    "        df=result_df,\n",
    "        y_true_col_names=\"SURVIVED\",\n",
    "        y_pred_col_names=\"OUTPUT_SURVIVED\",\n",
    "    ),\n",
    "    \"F1 Score\": f1_score(\n",
    "        df=result_df,\n",
    "        y_true_col_names=\"SURVIVED\",\n",
    "        y_pred_col_names=\"OUTPUT_SURVIVED\",\n",
    "    ),\n",
    "    \"Confusion Matrix\": confusion_matrix(\n",
    "        df=result_df, y_true_col_name=\"SURVIVED\", y_pred_col_name=\"OUTPUT_SURVIVED\"\n",
    "    ).tolist(),\n",
    "}"
   ]
  },
  {
   "cell_type": "code",
   "execution_count": 13,
   "metadata": {},
   "outputs": [
    {
     "data": {
      "text/plain": [
       "{'Accuracy': 0.887931,\n",
       " 'Precision': 0.8961038961038961,\n",
       " 'Recall': 0.7931034482758621,\n",
       " 'F1 Score': 0.8414634146341463,\n",
       " 'Confusion Matrix': [[411.0, 24.0], [54.0, 207.0]]}"
      ]
     },
     "execution_count": 13,
     "metadata": {},
     "output_type": "execute_result"
    }
   ],
   "source": [
    "metrics"
   ]
  },
  {
   "cell_type": "code",
   "execution_count": 14,
   "metadata": {},
   "outputs": [
    {
     "name": "stderr",
     "output_type": "stream",
     "text": [
      "/opt/anaconda3/envs/Intro_SnowML/lib/python3.10/contextlib.py:135: UserWarning: `relax_version` is not set and therefore defaulted to True. Dependency version constraints relaxed from ==x.y.z to >=x.y, <(x+1). To use specific dependency versions for compatibility, reproducibility, etc., set `options={'relax_version': False}` when logging the model.\n",
      "  return next(self.gen)\n"
     ]
    }
   ],
   "source": [
    "X = train_df.drop(\"SURVIVED\").limit(100)\n",
    "\n",
    "reg = Registry(session=session)\n",
    "\n",
    "titanic_model = reg.log_model(\n",
    "    model_name=\"TITANIC_PIPE\",\n",
    "    version_name=get_next_version(reg, \"TITANIC_PIPE\"),\n",
    "    model=pipeline,\n",
    "    metrics=metrics,\n",
    ")"
   ]
  },
  {
   "cell_type": "code",
   "execution_count": 15,
   "metadata": {},
   "outputs": [],
   "source": [
    "m = reg.get_model(\"TITANIC_PIPE\")\n",
    "m.default_version = get_version_with_highest_accuracy(reg, \"TITANIC_PIPE\")"
   ]
  },
  {
   "cell_type": "markdown",
   "metadata": {},
   "source": [
    "## Call pipeline from SQL"
   ]
  },
  {
   "cell_type": "markdown",
   "metadata": {},
   "source": [
    "Show the data is not cleaned before performming inference"
   ]
  },
  {
   "cell_type": "code",
   "execution_count": 17,
   "metadata": {},
   "outputs": [
    {
     "name": "stdout",
     "output_type": "stream",
     "text": [
      "-------------------------------------------------------------------------------------------------------------\n",
      "|\"SURVIVED\"  |\"PCLASS\"  |\"SIBSP\"  |\"PARCH\"  |\"FARE\"    |\"ALONE\"  |\"SEX\"   |\"CLASS\"  |\"WHO\"  |\"EMBARK_TOWN\"  |\n",
      "-------------------------------------------------------------------------------------------------------------\n",
      "|1           |3         |0        |0        |7.9250    |True     |FEMALE  |THIRD    |WOMAN  |SOUTHAMPTON    |\n",
      "|0           |3         |0        |0        |8.4583    |True     |MALE    |THIRD    |MAN    |QUEENSTOWN     |\n",
      "|0           |1         |0        |0        |51.8625   |True     |MALE    |FIRST    |MAN    |SOUTHAMPTON    |\n",
      "|0           |3         |0        |0        |8.0500    |True     |MALE    |THIRD    |MAN    |SOUTHAMPTON    |\n",
      "|1           |3         |0        |0        |8.0292    |True     |FEMALE  |THIRD    |CHILD  |QUEENSTOWN     |\n",
      "|0           |3         |0        |0        |7.8958    |True     |MALE    |THIRD    |MAN    |SOUTHAMPTON    |\n",
      "|1           |1         |1        |0        |146.5208  |False    |FEMALE  |FIRST    |WOMAN  |CHERBOURG      |\n",
      "|1           |2         |1        |2        |41.5792   |False    |FEMALE  |SECOND   |CHILD  |CHERBOURG      |\n",
      "|0           |3         |1        |0        |17.8000   |False    |FEMALE  |THIRD    |WOMAN  |SOUTHAMPTON    |\n",
      "|0           |3         |0        |0        |7.8000    |True     |MALE    |THIRD    |MAN    |SOUTHAMPTON    |\n",
      "-------------------------------------------------------------------------------------------------------------\n",
      "\n"
     ]
    }
   ],
   "source": [
    "test_df = session.table(\"TEST\")\n",
    "test_df.show()"
   ]
  },
  {
   "cell_type": "markdown",
   "metadata": {},
   "source": [
    "Run the pipeline"
   ]
  },
  {
   "cell_type": "code",
   "execution_count": 20,
   "metadata": {},
   "outputs": [
    {
     "name": "stdout",
     "output_type": "stream",
     "text": [
      "-----------------------------------------------------------------------------------------------------------------------\n",
      "|\"PCLASS\"  |\"SIBSP\"  |\"PARCH\"  |\"FARE\"    |\"ALONE\"  |\"SEX\"   |\"CLASS\"  |\"WHO\"  |\"EMBARK_TOWN\"  |\"SURV_PRED\"           |\n",
      "-----------------------------------------------------------------------------------------------------------------------\n",
      "|3         |0        |0        |7.9250    |True     |FEMALE  |THIRD    |WOMAN  |SOUTHAMPTON    |0.5756063461303711    |\n",
      "|3         |0        |0        |8.4583    |True     |MALE    |THIRD    |MAN    |QUEENSTOWN     |0.06476970762014389   |\n",
      "|1         |0        |0        |51.8625   |True     |MALE    |FIRST    |MAN    |SOUTHAMPTON    |0.07613715529441833   |\n",
      "|3         |0        |0        |8.0500    |True     |MALE    |THIRD    |MAN    |SOUTHAMPTON    |0.1316869705915451    |\n",
      "|3         |0        |0        |8.0292    |True     |FEMALE  |THIRD    |CHILD  |QUEENSTOWN     |0.5572702884674072    |\n",
      "|3         |0        |0        |7.8958    |True     |MALE    |THIRD    |MAN    |SOUTHAMPTON    |0.030010107904672623  |\n",
      "|1         |1        |0        |146.5208  |False    |FEMALE  |FIRST    |WOMAN  |CHERBOURG      |0.9791738986968994    |\n",
      "|2         |1        |2        |41.5792   |False    |FEMALE  |SECOND   |CHILD  |CHERBOURG      |0.9464718103408813    |\n",
      "|3         |1        |0        |17.8000   |False    |FEMALE  |THIRD    |WOMAN  |SOUTHAMPTON    |0.19497600197792053   |\n",
      "|3         |0        |0        |7.8000    |True     |MALE    |THIRD    |MAN    |SOUTHAMPTON    |0.08418451994657516   |\n",
      "-----------------------------------------------------------------------------------------------------------------------\n",
      "\n"
     ]
    }
   ],
   "source": [
    "# Copy this code in a snowflake worksheet or run via session.sql\n",
    "inference_df = session.sql(\n",
    "    \"\"\"\n",
    "select *, TITANIC_PIPE!predict_proba(*):PREDICT_PROBA_1\n",
    "as surv_pred\n",
    "from (\n",
    "select * exclude survived\n",
    "from test)\n",
    "            \"\"\"\n",
    ")\n",
    "inference_df.show()"
   ]
  },
  {
   "cell_type": "code",
   "execution_count": 22,
   "metadata": {},
   "outputs": [
    {
     "name": "stdout",
     "output_type": "stream",
     "text": [
      "--------------------------------------------------------------------------------------------------------------\n",
      "|\"PCLASS\"  |\"SIBSP\"  |\"PARCH\"  |\"FARE\"    |\"ALONE\"  |\"SEX\"   |\"CLASS\"  |\"WHO\"  |\"EMBARK_TOWN\"  |\"SURV_PRED\"  |\n",
      "--------------------------------------------------------------------------------------------------------------\n",
      "|3         |0        |0        |7.9250    |True     |FEMALE  |THIRD    |WOMAN  |SOUTHAMPTON    |1            |\n",
      "|3         |0        |0        |8.4583    |True     |MALE    |THIRD    |MAN    |QUEENSTOWN     |0            |\n",
      "|1         |0        |0        |51.8625   |True     |MALE    |FIRST    |MAN    |SOUTHAMPTON    |0            |\n",
      "|3         |0        |0        |8.0500    |True     |MALE    |THIRD    |MAN    |SOUTHAMPTON    |0            |\n",
      "|3         |0        |0        |8.0292    |True     |FEMALE  |THIRD    |CHILD  |QUEENSTOWN     |1            |\n",
      "|3         |0        |0        |7.8958    |True     |MALE    |THIRD    |MAN    |SOUTHAMPTON    |0            |\n",
      "|1         |1        |0        |146.5208  |False    |FEMALE  |FIRST    |WOMAN  |CHERBOURG      |1            |\n",
      "|2         |1        |2        |41.5792   |False    |FEMALE  |SECOND   |CHILD  |CHERBOURG      |1            |\n",
      "|3         |1        |0        |17.8000   |False    |FEMALE  |THIRD    |WOMAN  |SOUTHAMPTON    |0            |\n",
      "|3         |0        |0        |7.8000    |True     |MALE    |THIRD    |MAN    |SOUTHAMPTON    |0            |\n",
      "--------------------------------------------------------------------------------------------------------------\n",
      "\n"
     ]
    }
   ],
   "source": [
    "# Copy this code in a snowflake worksheet or run via session.sql\n",
    "inference_df = session.sql(\n",
    "    \"\"\"\n",
    "select *, TITANIC_PIPE!predict(*):OUTPUT_SURVIVED\n",
    "as surv_pred\n",
    "from (\n",
    "select * exclude survived\n",
    "from test)\n",
    "            \"\"\"\n",
    ")\n",
    "inference_df.show()"
   ]
  }
 ],
 "metadata": {
  "kernelspec": {
   "display_name": "Intro_SnowML",
   "language": "python",
   "name": "python3"
  },
  "language_info": {
   "codemirror_mode": {
    "name": "ipython",
    "version": 3
   },
   "file_extension": ".py",
   "mimetype": "text/x-python",
   "name": "python",
   "nbconvert_exporter": "python",
   "pygments_lexer": "ipython3",
   "version": "3.10.14"
  }
 },
 "nbformat": 4,
 "nbformat_minor": 2
}
